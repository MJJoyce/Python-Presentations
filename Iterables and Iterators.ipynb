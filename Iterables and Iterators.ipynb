{
 "metadata": {
  "name": ""
 },
 "nbformat": 3,
 "nbformat_minor": 0,
 "worksheets": [
  {
   "cells": [
    {
     "cell_type": "markdown",
     "metadata": {},
     "source": [
      "### Iterables and Iterators - The Power of For"
     ]
    },
    {
     "cell_type": "markdown",
     "metadata": {},
     "source": [
      "You're probably familiar with Python's *for* loop. It's great for getting just about everything you need done in Python. We're going to take a look at what makes a *for* loop work so we can learn how to exploit its power on custom objects.\n",
      "\n",
      "First we need to get a few definitions out of the way. An **iterable** is anything that we can iterate over. Something is defined as **iterable** by implementing the **\\_\\_iter\\_\\_** method. The **\\_\\_iter\\_\\_** method must return an **iterator** object that supports Python's iterator protocol. Let's take a look at an **iterable**."
     ]
    },
    {
     "cell_type": "code",
     "collapsed": false,
     "input": [
      "x = range(3)\n",
      "\n",
      "print x.__iter__, '\\n'\n",
      "\n",
      "print type(x)\n",
      "print type(x.__iter__())"
     ],
     "language": "python",
     "metadata": {},
     "outputs": [
      {
       "output_type": "stream",
       "stream": "stdout",
       "text": [
        "<method-wrapper '__iter__' of list object at 0x10396eb48> \n",
        "\n",
        "<type 'list'>\n",
        "<type 'listiterator'>\n"
       ]
      }
     ],
     "prompt_number": 26
    },
    {
     "cell_type": "markdown",
     "metadata": {},
     "source": [
      "**x** is a simple Python list. Notice that it implements **\\_\\_iter\\_\\_** which returns a **listiterator** object when called. The **iterator** is what Python uses to iterate over an object. When we pass an **iterable** into a *for* loop Python takes care of generating the **iterator** for us. However, there isn't anythign stopping us from passing in the **iterator** ourselves."
     ]
    },
    {
     "cell_type": "code",
     "collapsed": false,
     "input": [
      "for item in iter(x):\n",
      "    print item"
     ],
     "language": "python",
     "metadata": {},
     "outputs": [
      {
       "output_type": "stream",
       "stream": "stdout",
       "text": [
        "0\n",
        "1\n",
        "2\n"
       ]
      }
     ],
     "prompt_number": 16
    },
    {
     "cell_type": "markdown",
     "metadata": {},
     "source": [
      "Now that we understand **iterables**, let's take a look at **iterators**. An **iterator** is a state-ful object that keeps track of which value to return next and which provides a **next** method for retrieving that next value. When there are no further items in the iterator, **next** will raise a **StopIteration** exception. **Iterators** also implement **\\_\\_iter\\_\\_**, but this just returns *self*. This might seem inconsequential but we will look into the importance of this later."
     ]
    },
    {
     "cell_type": "code",
     "collapsed": false,
     "input": [
      "it = iter(x)\n",
      "print it.__iter__\n",
      "print it == it.__iter__()\n",
      "\n",
      "print '\\n', it.next"
     ],
     "language": "python",
     "metadata": {},
     "outputs": [
      {
       "output_type": "stream",
       "stream": "stdout",
       "text": [
        "<method-wrapper '__iter__' of listiterator object at 0x1049eac90>\n",
        "True\n",
        "\n",
        "<method-wrapper 'next' of listiterator object at 0x1049eac90>\n"
       ]
      }
     ],
     "prompt_number": 21
    },
    {
     "cell_type": "markdown",
     "metadata": {},
     "source": [
      "Let's take a look at using **next**. Notice how each call returns the next value until we run out of items to iterate over."
     ]
    },
    {
     "cell_type": "code",
     "collapsed": false,
     "input": [
      "it = iter(x)\n",
      "\n",
      "print it.next()\n",
      "print it.next()\n",
      "print it.next()\n",
      "\n",
      "try:\n",
      "    print it.next()\n",
      "except StopIteration:\n",
      "    print \"No more items!\""
     ],
     "language": "python",
     "metadata": {},
     "outputs": [
      {
       "output_type": "stream",
       "stream": "stdout",
       "text": [
        "0\n",
        "1\n",
        "2\n",
        "No more items!\n"
       ]
      }
     ],
     "prompt_number": 25
    },
    {
     "cell_type": "markdown",
     "metadata": {},
     "source": [
      "Now that we have all of these definitions out of the way let's get to some fun stuff. We're going to write a simple class that acts as a counter from one number to another. Sure, it's pretty much just a recreation of some built in Python functionality but it helps us learn! Remember how I mentioned earlier that an **iterator** often implements **\\_\\_iter\\_\\_**? This is useful because it allows an object to be both an **iterable** and an **iterator**. This lets us avoid creating a second *iterator* class for every object that we create. Let's get started!"
     ]
    },
    {
     "cell_type": "code",
     "collapsed": false,
     "input": [
      "class Counter(object):\n",
      "    def __init__(self, start, end):\n",
      "        self.current, self.end = start, end\n",
      "        \n",
      "    # This makes our Counter an iterable. However, because\n",
      "    # we also implement 'next' we don't have to create a \n",
      "    # separate iterator object. We just return ourself!\n",
      "    def __iter__(self):\n",
      "        return self\n",
      "    \n",
      "    # Our Counter iterates by incrementing its current value\n",
      "    # by one and returning the value prior to increment until\n",
      "    # we reach the end value passed in.\n",
      "    def next(self):\n",
      "        if self.current > self.end:\n",
      "            raise StopIteration\n",
      "        else:\n",
      "            self.current += 1\n",
      "            return self.current - 1\n",
      "        \n",
      "for val in Counter(3, 7):\n",
      "    print val"
     ],
     "language": "python",
     "metadata": {},
     "outputs": [
      {
       "output_type": "stream",
       "stream": "stdout",
       "text": [
        "3\n",
        "4\n",
        "5\n",
        "6\n",
        "7\n"
       ]
      }
     ],
     "prompt_number": 28
    },
    {
     "cell_type": "markdown",
     "metadata": {},
     "source": [
      "There you have it! We've successfully created a new Counter class that we can iterate over with *for* loops!"
     ]
    }
   ],
   "metadata": {}
  }
 ]
}