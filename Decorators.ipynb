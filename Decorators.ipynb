{
 "metadata": {
  "name": ""
 },
 "nbformat": 3,
 "nbformat_minor": 0,
 "worksheets": [
  {
   "cells": [
    {
     "cell_type": "heading",
     "level": 3,
     "metadata": {},
     "source": [
      "Decorators - Exploting Python's First Class Functions"
     ]
    },
    {
     "cell_type": "markdown",
     "metadata": {},
     "source": [
      "Python has first class functions. In other words, you can treat Python functions just like any other value. You can pass them into other funtctions, return them from other functions, and store them in data structures.\n",
      "\n",
      "Let's make our own version of Python's built in **map** function."
     ]
    },
    {
     "cell_type": "code",
     "collapsed": false,
     "input": [
      "def square(x):\n",
      "    return x * x\n",
      "\n",
      "def simple_map(func, iterable):\n",
      "    return [func(x) for x in iterable]\n",
      "\n",
      "y = range(10)                     \n",
      "print simple_map(square, y)"
     ],
     "language": "python",
     "metadata": {},
     "outputs": [
      {
       "output_type": "stream",
       "stream": "stdout",
       "text": [
        "[0, 1, 4, 9, 16, 25, 36, 49, 64, 81]\n"
       ]
      }
     ],
     "prompt_number": 3
    },
    {
     "cell_type": "markdown",
     "metadata": {},
     "source": [
      "**simple_map** takes a function and a list as parameters and returns the result of applying the function to each element in the list.\n",
      "\n",
      "Let's take a look at another example. We'll use a function to wrap another function so that we can test execution time."
     ]
    },
    {
     "cell_type": "code",
     "collapsed": false,
     "input": [
      "import time\n",
      "\n",
      "def timer(func):\n",
      "    def wrapper(*args):\n",
      "        t = time.time()\n",
      "        res = func(*args)\n",
      "        print func.func_name, time.time() - t\n",
      "        return res\n",
      "    return wrapper\n",
      "\n",
      "def summate(count):\n",
      "\tsum(range(count))\n",
      "\n",
      "summate_with_timer = timer(summate)\n",
      "\n",
      "summate_with_timer(9999999)"
     ],
     "language": "python",
     "metadata": {},
     "outputs": [
      {
       "output_type": "stream",
       "stream": "stdout",
       "text": [
        "summate 0.362576007843\n"
       ]
      }
     ],
     "prompt_number": 4
    },
    {
     "cell_type": "markdown",
     "metadata": {},
     "source": [
      "So let's break down what we're doing with **timer** here. **timer** takes a function and creates a new function called **wrapper** which takes a variable number of positional arguments. Note that we could make wrapper take whatever we want. In this situation it would be perfectly acceptable to have it take just a single argument since we're only wrapping **summate** (and **summate** only takes a single argument).\n",
      "\n",
      "Inside of **wrapper** we get the current time value and then call the function that was passed into **timer**. You might be wondering how we can do that. The reason is called a *closure* and the concept is fairly straightforward. Every time **timer** is called its argument is set to some value. A new **wrapper** function is then created in an environment where *func* is set to the value that was passed into **timer**. In otherwords, the *func* variable in **wrapper** references a variable in an enclosing scope (that of **timer**). Because this reference exists, the variable *func*'s value remains valid even after **timer** finishes executing.\n",
      "\n",
      "Continuing on, **wrapper** calls the enclosing function, prints some useful information, and then returns the result of the function's invocation. **timer** then finishes by returning the **wrapper** function instance that it just created.\n",
      "\n",
      "This is great, minus one problem. Having to manually make **summate_with_time** is annoying. We don't want to have to create an additional function every time we want to time its execution. It would be great if we could just *decorate* our summate function in some way that would tell Python to do the wrapping for us!"
     ]
    },
    {
     "cell_type": "code",
     "collapsed": false,
     "input": [
      "import time\n",
      "\n",
      "def timer(func):\n",
      "    def wrapper(*fa):\n",
      "        t = time.time()\n",
      "        res = func(*fa)\n",
      "        print func.func_name, time.time() - t\n",
      "        return res\n",
      "    return wrapper\n",
      "\n",
      "@timer\n",
      "def summate(count):\n",
      "    sum(range(count))\n",
      "\n",
      "summate(9999999)"
     ],
     "language": "python",
     "metadata": {},
     "outputs": [
      {
       "output_type": "stream",
       "stream": "stdout",
       "text": [
        "summate 0.375082969666\n"
       ]
      }
     ],
     "prompt_number": 5
    },
    {
     "cell_type": "markdown",
     "metadata": {},
     "source": [
      "That's where decorators come in! They allow you to easily wrap functions in a *Callable* without have to resort to doing so manually. We decorated **summate** with the **timer** function by placing *@timer* above the definition. That's really all there is to decorators! However, it is important to note that a decorator doesn't have to be a function. It can be anything that is a *Callable*. In Python, a *Callable* is any object that can be, well, called! Let's look at another way of making a decorator, but this time we'll use a class."
     ]
    },
    {
     "cell_type": "code",
     "collapsed": false,
     "input": [
      "class MyDecorator():\n",
      "    def __init__(self, f):\n",
      "        self.f = f\n",
      "\n",
      "    def __call__(self, *fa):\n",
      "        print \"Before func\"\n",
      "        res = self.f(*fa)\n",
      "        print \"After func\"\n",
      "        return res\n",
      "\n",
      "@MyDecorator\n",
      "def double(x):\n",
      "    print \"Doubling {}!\".format(x)\n",
      "    return x * 2\n",
      "\n",
      "print double(2.3)"
     ],
     "language": "python",
     "metadata": {},
     "outputs": [
      {
       "output_type": "stream",
       "stream": "stdout",
       "text": [
        "Before func\n",
        "Doubling 2.3!\n",
        "After func\n",
        "4.6\n"
       ]
      }
     ],
     "prompt_number": 6
    },
    {
     "cell_type": "markdown",
     "metadata": {},
     "source": [
      "Many people find this notation easier to understand. It doesn't require a *closure* and it's fairly easy to break down into its relevant parts. If we were to do this manually, we would have the following code."
     ]
    },
    {
     "cell_type": "code",
     "collapsed": false,
     "input": [
      "class MyDecorator():\n",
      "    def __init__(self, f):\n",
      "        self.f = f\n",
      "\n",
      "    def __call__(self, *fa):\n",
      "        print \"Before func\"\n",
      "        res = self.f(*fa)\n",
      "        print \"After func\"\n",
      "        return res\n",
      "\n",
      "def double(x):\n",
      "    print \"Doubling {}!\".format(x)\n",
      "    return x * 2\n",
      "\n",
      "# Create a new instance of MyDecorator. `self.f` is set to\n",
      "# the function `double`. We save this instance into the\n",
      "# variable `double`.\n",
      "double = MyDecorator(double)\n",
      "\n",
      "# This is effectibely double.__call__(2.3)\n",
      "print double(2.3)"
     ],
     "language": "python",
     "metadata": {},
     "outputs": [
      {
       "output_type": "stream",
       "stream": "stdout",
       "text": [
        "Before func\n",
        "Doubling 2.3!\n",
        "After func\n",
        "4.6\n"
       ]
      }
     ],
     "prompt_number": 8
    },
    {
     "cell_type": "markdown",
     "metadata": {},
     "source": [
      "You should use which ever notation works for you. There isn't really a difference between the two. Personally, I prefer the function notation but ultimately it's your choice!\n",
      "\n",
      "If you would like to see more examples of decorators in action checkout out the [Python Wiki](https://wiki.python.org/moin/PythonDecoratorLibrary)"
     ]
    }
   ],
   "metadata": {}
  }
 ]
}